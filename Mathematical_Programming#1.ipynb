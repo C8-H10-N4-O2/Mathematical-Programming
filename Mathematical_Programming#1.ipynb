{
 "cells": [
  {
   "cell_type": "code",
   "execution_count": 1,
   "id": "4aadedf8",
   "metadata": {},
   "outputs": [],
   "source": [
    "import numpy as np"
   ]
  },
  {
   "cell_type": "code",
   "execution_count": 3,
   "id": "d2e93841",
   "metadata": {},
   "outputs": [
    {
     "name": "stdout",
     "output_type": "stream",
     "text": [
      "(1) v,w 내적: 2.0 \n",
      "\n",
      "(2) proj_w_v: [0.8 0.  0.4] \n",
      "\n",
      "(3)수직입니다.\n"
     ]
    }
   ],
   "source": [
    "#1번\n",
    "\n",
    "v = np.array([1,-1,0])\n",
    "w = np.array([2,0,1])\n",
    "\n",
    "w = w.astype('float64')\n",
    "\n",
    "a = np.inner(v,w)\n",
    "b = np.inner(w,w)\n",
    "\n",
    "c = (a/b)*w\n",
    "\n",
    "d = v-c\n",
    "\n",
    "e = np.inner(d,w)\n",
    "\n",
    "print('(1) v,w 내적:',a,'\\n')\n",
    "print('(2) proj_w_v:',c,'\\n')\n",
    "if int(e) == 0 : print('(3)수직입니다.')"
   ]
  },
  {
   "cell_type": "code",
   "execution_count": 4,
   "id": "df72b31d",
   "metadata": {},
   "outputs": [
    {
     "name": "stdout",
     "output_type": "stream",
     "text": [
      "행렬곱 AB\n",
      " [[ 14   7  14]\n",
      " [ -4   4  11]\n",
      " [ 32 -13 -18]] \n",
      "\n",
      "행렬곱 BA\n",
      " [[  0  -9  15   0]\n",
      " [ 15  20  25  -5]\n",
      " [  5  19 -11  -2]\n",
      " [ 15  15  48  -9]]\n"
     ]
    }
   ],
   "source": [
    "#2번\n",
    "\n",
    "A = np.array([[3,4,5,-1],[0,1,2,-1],[2,5,-3,0]])\n",
    "B = np.array([[2,-2,-3],[5,0,0],[-1,3,4],[7,2,-3]])\n",
    "\n",
    "print('행렬곱 AB\\n',np.matmul(A,B),'\\n')\n",
    "print('행렬곱 BA\\n',np.matmul(B,A))"
   ]
  },
  {
   "cell_type": "code",
   "execution_count": 6,
   "id": "f0206dc9",
   "metadata": {},
   "outputs": [
    {
     "name": "stdout",
     "output_type": "stream",
     "text": [
      "----------A의 2 승-----------\n",
      "[[5 1]\n",
      " [1 2]] \n",
      " [[5 1]\n",
      " [1 2]]\n",
      "----------A의 3 승-----------\n",
      "[[26  7]\n",
      " [ 7  5]] \n",
      " [[26  7]\n",
      " [ 7  5]]\n",
      "----------A의 4 승-----------\n",
      "[[725 217]\n",
      " [217  74]] \n",
      " [[725 217]\n",
      " [217  74]]\n",
      "----------A의 5 승-----------\n",
      "[[572714 173383]\n",
      " [173383  52565]] \n",
      " [[572714 173383]\n",
      " [173383  52565]]\n",
      "----------A의 6 승-----------\n",
      "[[ 1580704917  1038566457]\n",
      " [ 1038566457 -1534994454]] \n",
      " [[ 1580704917  1038566457]\n",
      " [ 1038566457 -1534994454]]\n",
      "----------A의 7 승-----------\n",
      "[[-387869846 2046260295]\n",
      " [2046260295 2063283861]] \n",
      " [[-387869846 2046260295]\n",
      " [2046260295 2063283861]]\n",
      "----------A의 8 승-----------\n",
      "[[1225347989  701272505]\n",
      " [ 701272505 -878469526]] \n",
      " [[1225347989  701272505]\n",
      " [ 701272505 -878469526]]\n",
      "----------A의 9 승-----------\n",
      "[[ -913372054 -1807724473]\n",
      " [-1807724473   214834069]] \n",
      " [[ -913372054 -1807724473]\n",
      " [-1807724473   214834069]]\n",
      "----------A의 10 승-----------\n",
      "[[-1481470059   -65681479]\n",
      " [  -65681479 -1284425622]] \n",
      " [[-1481470059   -65681479]\n",
      " [  -65681479 -1284425622]]\n"
     ]
    }
   ],
   "source": [
    "#3번\n",
    "\n",
    "A = np.array([[2,1],[1,-1]])\n",
    "\n",
    "for i in range(2,11):\n",
    "    print(\"----------A의\",i,\"승-----------\")\n",
    "    A = np.matmul(A,A)\n",
    "    B = np.transpose(A)\n",
    "    print(A,'\\n',B)"
   ]
  },
  {
   "cell_type": "code",
   "execution_count": null,
   "id": "74cfe886",
   "metadata": {},
   "outputs": [],
   "source": []
  },
  {
   "cell_type": "code",
   "execution_count": null,
   "id": "03448e67",
   "metadata": {},
   "outputs": [],
   "source": []
  },
  {
   "cell_type": "code",
   "execution_count": null,
   "id": "783d92de",
   "metadata": {},
   "outputs": [],
   "source": []
  },
  {
   "cell_type": "code",
   "execution_count": null,
   "id": "62379a6d",
   "metadata": {},
   "outputs": [],
   "source": []
  },
  {
   "cell_type": "code",
   "execution_count": null,
   "id": "ee9c3b0b",
   "metadata": {},
   "outputs": [],
   "source": []
  },
  {
   "cell_type": "code",
   "execution_count": null,
   "id": "03323663",
   "metadata": {},
   "outputs": [],
   "source": []
  },
  {
   "cell_type": "code",
   "execution_count": null,
   "id": "eacf307b",
   "metadata": {},
   "outputs": [],
   "source": []
  },
  {
   "cell_type": "code",
   "execution_count": null,
   "id": "66cce02e",
   "metadata": {},
   "outputs": [],
   "source": []
  },
  {
   "cell_type": "code",
   "execution_count": null,
   "id": "d65a32e0",
   "metadata": {},
   "outputs": [],
   "source": []
  },
  {
   "cell_type": "code",
   "execution_count": null,
   "id": "28070cfc",
   "metadata": {},
   "outputs": [],
   "source": []
  },
  {
   "cell_type": "code",
   "execution_count": null,
   "id": "b0ca073d",
   "metadata": {},
   "outputs": [],
   "source": []
  }
 ],
 "metadata": {
  "kernelspec": {
   "display_name": "Python 3 (ipykernel)",
   "language": "python",
   "name": "python3"
  },
  "language_info": {
   "codemirror_mode": {
    "name": "ipython",
    "version": 3
   },
   "file_extension": ".py",
   "mimetype": "text/x-python",
   "name": "python",
   "nbconvert_exporter": "python",
   "pygments_lexer": "ipython3",
   "version": "3.9.7"
  }
 },
 "nbformat": 4,
 "nbformat_minor": 5
}
