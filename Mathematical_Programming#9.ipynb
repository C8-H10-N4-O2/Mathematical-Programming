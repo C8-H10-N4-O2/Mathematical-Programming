{
 "cells": [
  {
   "cell_type": "code",
   "execution_count": 1,
   "id": "7b6eeef9",
   "metadata": {},
   "outputs": [],
   "source": [
    "import numpy as np"
   ]
  },
  {
   "cell_type": "code",
   "execution_count": 2,
   "id": "6f5294b7",
   "metadata": {},
   "outputs": [],
   "source": [
    "A = np.array([ [1,3],[2,-1],[0,5] ])\n",
    "B = np.array([ [7,-2,3],[0,5,-3] ])\n",
    "\n",
    "C = [ [1,3],[2,-1],[0,5] ]\n",
    "D = [ [7,-2,3],[0,5,-3] ]"
   ]
  },
  {
   "cell_type": "code",
   "execution_count": 3,
   "id": "0101c806",
   "metadata": {},
   "outputs": [],
   "source": [
    "def make_matmul(v,w):\n",
    "    \n",
    "    v_row = len(v)\n",
    "    v_column = len(v[0])\n",
    "    \n",
    "    w_row = len(w)\n",
    "    w_column = len(w[0])\n",
    "    \n",
    "    if v_column != w_row : return print(\"ERROR\")\n",
    "     \n",
    "    output = []\n",
    "    \n",
    "    for i in range(0,v_row):\n",
    "        row = []\n",
    "        for j in range(0,v_row):\n",
    "            value = 0\n",
    "            for k in range(0,w_row):\n",
    "                value += v[i,k]*w[k,j]\n",
    "            row.append(value)\n",
    "        output.append(row)\n",
    "    \n",
    "    return output"
   ]
  },
  {
   "cell_type": "markdown",
   "id": "4ad7e50f",
   "metadata": {},
   "source": [
    "문제 1"
   ]
  },
  {
   "cell_type": "code",
   "execution_count": 4,
   "id": "9d31454e",
   "metadata": {},
   "outputs": [
    {
     "name": "stdout",
     "output_type": "stream",
     "text": [
      "numpy matmul :\n",
      " [[  3  38]\n",
      " [ 10 -20]]\n",
      "my matmul :\n",
      " [[3, 38], [10, -20]]\n"
     ]
    }
   ],
   "source": [
    "print(\"numpy matmul :\\n\",np.matmul(B,A))\n",
    "print(\"my matmul :\\n\",make_matmul(B,A))"
   ]
  },
  {
   "cell_type": "markdown",
   "id": "bc1d0af9",
   "metadata": {},
   "source": [
    "문제 2"
   ]
  },
  {
   "cell_type": "code",
   "execution_count": 5,
   "id": "a2649d12",
   "metadata": {},
   "outputs": [
    {
     "name": "stdout",
     "output_type": "stream",
     "text": [
      "[[-0.75  1.25]\n",
      " [ 0.5  -0.5 ]]\n"
     ]
    }
   ],
   "source": [
    "A = np.array([ [2,5],[2,3] ])\n",
    "A_inv = np.linalg.inv(A)\n",
    "print(A_inv)"
   ]
  },
  {
   "cell_type": "code",
   "execution_count": 6,
   "id": "7c42971c",
   "metadata": {},
   "outputs": [
    {
     "name": "stdout",
     "output_type": "stream",
     "text": [
      "[[1. 0.]\n",
      " [0. 1.]] \n",
      "\n",
      " [[1. 0.]\n",
      " [0. 1.]]\n"
     ]
    }
   ],
   "source": [
    "A_A_inv = np.matmul(A,A_inv)\n",
    "A_inv_A = np.matmul(A_inv,A)\n",
    "\n",
    "print(A_A_inv,\"\\n\\n\",A_inv_A) # 항등행렬이 된다."
   ]
  },
  {
   "cell_type": "markdown",
   "id": "dd5c4f91",
   "metadata": {},
   "source": [
    "문제 3"
   ]
  },
  {
   "cell_type": "code",
   "execution_count": 7,
   "id": "e1048120",
   "metadata": {},
   "outputs": [],
   "source": [
    "def identity(n):\n",
    "    \n",
    "    output = []\n",
    "    \n",
    "    for i in range(0,n):\n",
    "        row = []\n",
    "        for j in range(0,n):\n",
    "            if i == j : row.append(1)\n",
    "            else : row.append(0)\n",
    "        output.append(row)\n",
    "    \n",
    "    return output"
   ]
  },
  {
   "cell_type": "code",
   "execution_count": 8,
   "id": "dc980fc2",
   "metadata": {},
   "outputs": [
    {
     "data": {
      "text/plain": [
       "[[1, 0, 0, 0, 0],\n",
       " [0, 1, 0, 0, 0],\n",
       " [0, 0, 1, 0, 0],\n",
       " [0, 0, 0, 1, 0],\n",
       " [0, 0, 0, 0, 1]]"
      ]
     },
     "execution_count": 8,
     "metadata": {},
     "output_type": "execute_result"
    }
   ],
   "source": [
    "identity(5)"
   ]
  },
  {
   "cell_type": "code",
   "execution_count": null,
   "id": "121b1bce",
   "metadata": {},
   "outputs": [],
   "source": []
  }
 ],
 "metadata": {
  "kernelspec": {
   "display_name": "Python 3 (ipykernel)",
   "language": "python",
   "name": "python3"
  },
  "language_info": {
   "codemirror_mode": {
    "name": "ipython",
    "version": 3
   },
   "file_extension": ".py",
   "mimetype": "text/x-python",
   "name": "python",
   "nbconvert_exporter": "python",
   "pygments_lexer": "ipython3",
   "version": "3.10.4"
  }
 },
 "nbformat": 4,
 "nbformat_minor": 5
}
