{
 "cells": [
  {
   "cell_type": "code",
   "execution_count": 11,
   "id": "a3703886",
   "metadata": {},
   "outputs": [],
   "source": [
    "import numpy as np\n",
    "from pip import main\n",
    "import sympy as sp\n",
    "import matplotlib.pyplot as plt\n",
    "import math"
   ]
  },
  {
   "cell_type": "code",
   "execution_count": 12,
   "id": "18ce3436",
   "metadata": {},
   "outputs": [
    {
     "name": "stdout",
     "output_type": "stream",
     "text": [
      "[ 2. -1.]\n"
     ]
    }
   ],
   "source": [
    "#(1)-1\n",
    "\n",
    "A = np.array([[7,-3],[1,5]])\n",
    "B = np.array([17, -3])\n",
    "C = np.linalg.solve(A, B)\n",
    "\n",
    "print(C)"
   ]
  },
  {
   "cell_type": "code",
   "execution_count": 13,
   "id": "d4571d4a",
   "metadata": {},
   "outputs": [
    {
     "name": "stdout",
     "output_type": "stream",
     "text": [
      "{x: 2, y: -1}\n"
     ]
    }
   ],
   "source": [
    "#(1)-2\n",
    "\n",
    "x, y = sp.symbols('x y')\n",
    "\n",
    "expr_1 = 7*x-3*y-17\n",
    "expr_2 = x+5*y+3\n",
    "answer = sp.solve((expr_1,expr_2))\n",
    "\n",
    "print(answer)\n"
   ]
  },
  {
   "cell_type": "code",
   "execution_count": 14,
   "id": "d4e6212a",
   "metadata": {},
   "outputs": [
    {
     "data": {
      "image/png": "[encoded data removed]",
      "text/plain": [
       "<Figure size 432x288 with 1 Axes>"
      ]
     },
     "metadata": {
      "needs_background": "light"
     },
     "output_type": "display_data"
    }
   ],
   "source": [
    "#(1)-3\n",
    "\n",
    "x = np.linspace(-50,50,10000)\n",
    "\n",
    "expr_3 = (7*x-17)/3\n",
    "expr_4 = (-1*x-3)/5\n",
    "\n",
    "plt.hlines(0,-30,30,color='lightgray')\n",
    "plt.vlines(0,-30,30,color='lightgray')\n",
    "\n",
    "plt.plot(x,expr_3,label='expr_1')\n",
    "plt.plot(x,expr_4,label='expr_2')\n",
    "plt.plot([2],[-1],'g^')\n",
    "plt.legend()\n",
    "\n",
    "plt.xlabel('X-Axis')\n",
    "plt.ylabel('Y-Axis')\n",
    "\n",
    "plt.xlim([-30, 30])\n",
    "plt.ylim([-30, 30])\n",
    "\n",
    "plt.show()"
   ]
  },
  {
   "cell_type": "code",
   "execution_count": 33,
   "id": "4e2c9a36",
   "metadata": {},
   "outputs": [
    {
     "name": "stdout",
     "output_type": "stream",
     "text": [
      "1.618033988749895\n"
     ]
    }
   ],
   "source": [
    "#(4)-1\n",
    "\n",
    "i = 1\n",
    "h = 1e-7\n",
    "xt = 10\n",
    "\n",
    "def f(x):\n",
    "    expr = x**2-x-1\n",
    "    return expr\n",
    "\n",
    "def dif_f(x):\n",
    "    expr = (f(x+h)-f(x-h))/(2*h)\n",
    "    return expr\n",
    "\n",
    "while True:\n",
    "    xa = xt - (f(xt)/dif_f(xt))\n",
    "    dif_value = abs(xa-xt)\n",
    "\n",
    "    if dif_value < h: \n",
    "        print(xa)\n",
    "        break\n",
    "    else:                        \n",
    "        xt = xa        \n",
    "        i+=1\n"
   ]
  },
  {
   "cell_type": "code",
   "execution_count": 18,
   "id": "cc64d460",
   "metadata": {},
   "outputs": [
    {
     "name": "stdout",
     "output_type": "stream",
     "text": [
      "음수가 되는 초기값:  0\n"
     ]
    }
   ],
   "source": [
    "#(4)-2\n",
    "\n",
    "i = 1\n",
    "h = 1e-7\n",
    "xt = 10\n",
    "roof = 0\n",
    "\n",
    "def f(x):\n",
    "    expr = x**2-x-1\n",
    "    return expr\n",
    "\n",
    "def dif_f(x):\n",
    "    expr = (f(x+h)-f(x-h))/(2*h)\n",
    "    return expr\n",
    "\n",
    "while True:\n",
    "    xa = xt - (f(xt)/dif_f(xt))\n",
    "\n",
    "    if xa < 0: \n",
    "        print('음수가 되는 초기값: ',xt)\n",
    "        break\n",
    "    else:                        \n",
    "        xt = xt-1\n",
    "        i+=1"
   ]
  },
  {
   "cell_type": "code",
   "execution_count": 32,
   "id": "8877316e",
   "metadata": {},
   "outputs": [
    {
     "name": "stdout",
     "output_type": "stream",
     "text": [
      "(1+3.0124471958696434e-21j)\n"
     ]
    }
   ],
   "source": [
    "#(5)\n",
    "\n",
    "i = 1\n",
    "h = 1e-7\n",
    "xt = 10\n",
    "\n",
    "def f(x):\n",
    "    expr = x**(1/3)-1\n",
    "    return expr\n",
    "\n",
    "def dif_f(x):\n",
    "    expr = (f(x+h)-f(x-h))/(2*h)\n",
    "    return expr\n",
    "\n",
    "while True:\n",
    "    xa = xt - (f(xt)/dif_f(xt))\n",
    "    dif_value = abs(xa-xt)\n",
    "\n",
    "    if dif_value < h: \n",
    "        print(xa)\n",
    "        break\n",
    "    else:                        \n",
    "        xt = xa        \n",
    "        i+=1"
   ]
  },
  {
   "cell_type": "code",
   "execution_count": 31,
   "id": "4e377fa6",
   "metadata": {},
   "outputs": [
    {
     "name": "stdout",
     "output_type": "stream",
     "text": [
      "실시간 미분값 :  0.0718144899103379\n",
      "실시간 미분값 :  (-0.022620146866714208-0.0391792442933081j)\n",
      "실시간 미분값 :  (0.02849960045736566+2.0331634581049165e-10j)\n",
      "실시간 미분값 :  (-0.008976810406124969-0.015548291543154846j)\n",
      "실시간 미분값 :  (0.011310072878245592-5.359911166481293e-11j)\n",
      "실시간 미분값 :  (-0.0035624503347264636+0.006170344235556513j)\n",
      "실시간 미분값 :  (0.004488400762170386+2.342289621130476e-10j)\n",
      "실시간 미분값 :  (-0.0014137579995576743-0.0024486990213290483j)\n",
      "실시간 미분값 :  (0.0017812240571402072-5.239703460067739e-10j)\n",
      "실시간 미분값 :  (-0.0005610534259403721+0.000971773772562301j)\n",
      "실시간 미분값 :  (0.0007068834406709357-2.3090753416862668e-10j)\n",
      "실시간 미분값 :  (-0.0002226574480346244+0.0003856648334021884j)\n",
      "실시간 미분값 :  (0.00028052227207808755-3.408325054479744e-09j)\n",
      "실시간 미분값 :  (-8.835598919176846e-05+0.00015305090528272558j)\n",
      "실시간 미분값 :  (0.0001113420466936077-4.359576935564213e-09j)\n",
      "실시간 미분값 :  (-3.5065284009760944e-05+6.071587677070056e-05j)\n",
      "실시간 미분값 :  (4.419575816427823e-05+5.967448757360216e-09j)\n",
      "실시간 미분값 :  (-1.3891110484109959e-05-2.4087398742267396e-05j)\n",
      "실시간 미분값 :  (1.7621459846850485e-05+8.569533971325427e-09j)\n",
      "실시간 미분값 :  (-5.5422333389287814e-06-9.663381206337363e-06j)\n",
      "실시간 미분값 :  (6.963318810448982e-06+2.0261570199409107e-08j)\n",
      "실시간 미분값 :  (-2.1316282072803006e-06-3.694822225952521e-06j)\n",
      "실시간 미분값 :  (2.8421709430404007e-06+9.020562075079397e-10j)\n",
      "실시간 미분값 :  (-8.526512829121202e-07-1.7053025658242404e-06j)\n",
      "실시간 미분값 :  (5.684341886080801e-07+8.881784197001252e-08j)\n",
      "실시간 미분값 :  (-2.842170943040401e-07-5.684341886080801e-07j)\n",
      "실시간 미분값 :  (5.684341886080801e-07+1.7763568394002505e-08j)\n",
      "실시간 미분값 :  0j\n",
      "오류 메세지:  complex division by zero\n",
      "0으로 나누기를 실행할 수 없다고 오류를 출력합니다. 미분값이 0인 경우, 분모에 0이 들어가므로 나누기를 실행할 수 없습니다.\n"
     ]
    }
   ],
   "source": [
    "#(5) 이어서\n",
    "\n",
    "i = 1\n",
    "h = 1e-7\n",
    "xt = 10\n",
    "\n",
    "def f(x):\n",
    "    expr = x**(1/3)\n",
    "    return expr\n",
    "\n",
    "def dif_f(x):\n",
    "    expr = (f(x+h)-f(x-h))/(2*h)\n",
    "    print('실시간 미분값 : ',expr)\n",
    "    return expr\n",
    "\n",
    "try:\n",
    "    while True:\n",
    "        xa = xt - (f(xt)/dif_f(xt))\n",
    "        dif_value = abs(xa-xt)\n",
    "\n",
    "        if dif_value < h: \n",
    "            print(xa)\n",
    "            break\n",
    "        else:                        \n",
    "            xt = xa        \n",
    "            i+=1\n",
    "\n",
    "except ZeroDivisionError as e:\n",
    "    print('오류 메세지: ',e)\n",
    "    print('0으로 나누기를 실행할 수 없다고 오류를 출력합니다. 미분값이 0인 경우, 분모에 0이 들어가므로 나누기를 실행할 수 없습니다.')\n",
    "    \n",
    "except : print('중근일 경우에도 근에 접근할수록 기울기가 완만해져 근을 찾는 것이 매우 느려집니다.')\n"
   ]
  },
  {
   "cell_type": "code",
   "execution_count": null,
   "id": "446977a4",
   "metadata": {},
   "outputs": [],
   "source": []
  },
  {
   "cell_type": "code",
   "execution_count": null,
   "id": "8893f8b9",
   "metadata": {},
   "outputs": [],
   "source": []
  },
  {
   "cell_type": "code",
   "execution_count": null,
   "id": "3258738a",
   "metadata": {},
   "outputs": [],
   "source": []
  }
 ],
 "metadata": {
  "kernelspec": {
   "display_name": "Python 3 (ipykernel)",
   "language": "python",
   "name": "python3"
  },
  "language_info": {
   "codemirror_mode": {
    "name": "ipython",
    "version": 3
   },
   "file_extension": ".py",
   "mimetype": "text/x-python",
   "name": "python",
   "nbconvert_exporter": "python",
   "pygments_lexer": "ipython3",
   "version": "3.9.7"
  }
 },
 "nbformat": 4,
 "nbformat_minor": 5
}
