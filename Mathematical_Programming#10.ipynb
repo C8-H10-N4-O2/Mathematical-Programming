{
 "cells": [
  {
   "cell_type": "code",
   "execution_count": 1,
   "id": "3b8bffef",
   "metadata": {},
   "outputs": [],
   "source": [
    "import numpy as np\n",
    "import matplotlib as plt\n",
    "from scipy.linalg import lu\n",
    "\n",
    "from sympy import *\n",
    "init_printing(latex=True)"
   ]
  },
  {
   "cell_type": "markdown",
   "id": "d4b4c027",
   "metadata": {},
   "source": [
    "<h3>문제 1</h3>"
   ]
  },
  {
   "cell_type": "markdown",
   "id": "8d98c7fd",
   "metadata": {},
   "source": [
    "<h5>1번</h5>"
   ]
  },
  {
   "cell_type": "code",
   "execution_count": 3,
   "id": "47b1fe68",
   "metadata": {},
   "outputs": [
    {
     "name": "stdout",
     "output_type": "stream",
     "text": [
      "numpy library\n",
      " eigenvalues : [-2.  5.] \n",
      " eigenvectors : [[-0.70710678 -0.6       ]\n",
      " [ 0.70710678 -0.8       ]]\n"
     ]
    }
   ],
   "source": [
    "#1-(1)\n",
    "A = np.array([ [1,3],[4,2] ])\n",
    "A_values, A_vectors = np.linalg.eig(A)\n",
    "print(\"numpy library\")\n",
    "print(\" eigenvalues :\",A_values, \"\\n\",\"eigenvectors :\", A_vectors)"
   ]
  },
  {
   "cell_type": "markdown",
   "id": "bcf7509d",
   "metadata": {},
   "source": [
    "<h5>2번</h5>"
   ]
  },
  {
   "cell_type": "markdown",
   "id": "7cb67f34",
   "metadata": {},
   "source": [
    "<h3>제 개발환경에서 <code>init_printing()</code>이 작동하지 않습니다. <br>모듈 업데이트도 확인하고 VS코드나 python IDLE shell로도 해보았는데 작동이 되질 않습니다.. <br>혹시 작동 안하더라도.. 양해 부탁드립니다. </h3>"
   ]
  },
  {
   "cell_type": "code",
   "execution_count": 4,
   "id": "3ac699af",
   "metadata": {},
   "outputs": [
    {
     "name": "stdout",
     "output_type": "stream",
     "text": [
      "sympy library\n",
      " eigenvalues : {5: 1, -2: 1} \n",
      " eigenvectors : [(-2, 1, [Matrix([\n",
      "[-1],\n",
      "[ 1]])]), (5, 1, [Matrix([\n",
      "[3/4],\n",
      "[  1]])])]\n"
     ]
    }
   ],
   "source": [
    "#1-(2)\n",
    "A = Matrix([[1,3],[4,2]])\n",
    "print(\"sympy library\")\n",
    "print(\" eigenvalues :\",A.eigenvals(),\"\\n\",\"eigenvectors :\", A.eigenvects())\n"
   ]
  },
  {
   "cell_type": "markdown",
   "id": "af83d004",
   "metadata": {},
   "source": [
    "<h5>3번</h5>"
   ]
  },
  {
   "cell_type": "code",
   "execution_count": 5,
   "id": "3fa6a0cf",
   "metadata": {},
   "outputs": [
    {
     "name": "stdout",
     "output_type": "stream",
     "text": [
      "t**2 - 3*t - 10\n"
     ]
    }
   ],
   "source": [
    "#1-(3)\n",
    "t = symbols('t')\n",
    "print(A.charpoly(t).as_expr())\n"
   ]
  },
  {
   "cell_type": "markdown",
   "id": "e58eff00",
   "metadata": {},
   "source": [
    "<h3>문제 2</h3>"
   ]
  },
  {
   "cell_type": "code",
   "execution_count": 6,
   "id": "a37eeee1",
   "metadata": {},
   "outputs": [
    {
     "name": "stdout",
     "output_type": "stream",
     "text": [
      "-----P-----\n",
      " [[ 0.49473045  0.85407884  0.16059614]\n",
      " [ 0.60797565 -0.20810216 -0.76619782]\n",
      " [ 0.62097294 -0.47669994  0.62221361]]\n",
      "-----PDP^(-1)-----\n",
      " [[3. 2. 1.]\n",
      " [2. 1. 4.]\n",
      " [1. 4. 2.]]\n",
      "-----A-----\n",
      " [[3 2 1]\n",
      " [2 1 4]\n",
      " [1 4 2]]\n",
      "-----PAP^(-1)-----\n",
      " [[ 6  0  0]\n",
      " [ 0  1  0]\n",
      " [ 0  0 -2]]\n",
      "-----D-----\n",
      " [[ 6.71297995  0.          0.        ]\n",
      " [ 0.          1.95454118  0.        ]\n",
      " [ 0.          0.         -2.66752113]]\n"
     ]
    }
   ],
   "source": [
    "#2\n",
    "A = np.array([ [3,2,1],[2,1,4],[1,4,2] ])\n",
    "values, vectors = np.linalg.eig(A)\n",
    "\n",
    "P = vectors #고유벡터 P\n",
    "P_inv = np.linalg.inv(P) #고유벡터 P의 역행렬\n",
    "D = np.diag(values) #고유값을 대각행렬로 갖는 D\n",
    "\n",
    "print(\"-----P-----\\n\", P) #가역행렬 P\n",
    "\n",
    "#A = PDP^(-1)\n",
    "result = np.matmul(P,D)\n",
    "result = np.matmul(result,P_inv)\n",
    "\n",
    "#같은지 확인\n",
    "print(\"-----PDP^(-1)-----\\n\",result)\n",
    "print(\"-----A-----\\n\",A)\n",
    "\n",
    "#D = PAP^(-1)\n",
    "result_2 = np.matmul(P_inv,A)\n",
    "result_2 = np.matmul(result_2,P)\n",
    "result_2 = result_2.astype(int)\n",
    "\n",
    "#같은지 확인\n",
    "print(\"-----PAP^(-1)-----\\n\",result_2)\n",
    "print(\"-----D-----\\n\",D)\n"
   ]
  },
  {
   "cell_type": "markdown",
   "id": "46954c3e",
   "metadata": {},
   "source": [
    "<h5> $ D = P^{-1}AP $ , 이 되도록 하는 $D = \\begin{pmatrix} 6.71297995 & 0 & 0 \\\\ 0 & 1.95454118 & 0 \\\\ 0 & 0 & -2.66752113 \\end{pmatrix}$  $P = \\begin{pmatrix} 0.49473045 & 0.85407884 & 0.16059614 \\\\ 0.60797565 & -0.20810216 & -0.76619782 \\\\ 0.62097294 & -0.47669994 & 0.62221361 \\end{pmatrix}$ </h5>"
   ]
  },
  {
   "cell_type": "markdown",
   "id": "2f307926",
   "metadata": {},
   "source": [
    "<h3>문제 3</h3>"
   ]
  },
  {
   "cell_type": "code",
   "execution_count": 7,
   "id": "57b7e99d",
   "metadata": {},
   "outputs": [
    {
     "name": "stdout",
     "output_type": "stream",
     "text": [
      "----------L----------\n",
      " [[ 1.          0.          0.        ]\n",
      " [ 0.33333333  1.          0.        ]\n",
      " [ 0.33333333 -0.28571429  1.        ]]\n",
      "----------U----------\n",
      " [[ 3.          1.         -3.        ]\n",
      " [ 0.         -2.33333333 -4.        ]\n",
      " [ 0.          0.          0.85714286]]\n",
      "-----LU-----\n",
      " [[ 1.  1.  1.]\n",
      " [ 3.  1. -3.]\n",
      " [ 1. -2. -5.]]\n",
      "-----A-----\n",
      " [[ 1  1  1]\n",
      " [ 3  1 -3]\n",
      " [ 1 -2 -5]]\n"
     ]
    }
   ],
   "source": [
    "#3\n",
    "A = np.array([ [1,1,1],[3,1,-3],[1,-2,-5] ])\n",
    "P, L, U = lu(A)\n",
    "\n",
    "# L, U 확인\n",
    "print(\"----------L----------\\n\",L) #상삼각행렬\n",
    "print(\"----------U----------\\n\",U) #하삼각행렬\n",
    "\n",
    "#같은지 확인\n",
    "print(\"-----LU-----\\n\",np.matmul(np.matmul(P,L),U))\n",
    "print(\"-----A-----\\n\",A)"
   ]
  },
  {
   "cell_type": "markdown",
   "id": "d729a6d1",
   "metadata": {},
   "source": [
    "<h5> $L = \\begin{pmatrix} 1 & 0 & 0 \\\\ 0.33333333 & 1 & 0 \\\\ 0.33333333 & -0.28571429 & 1 \\end{pmatrix}$\n",
    "     $U = \\begin{pmatrix} 3 & 1 & -3 \\\\ 0 & -2.33333333 & -4 \\\\ 0 & 0 & 0.85714286 \\end{pmatrix}$\n",
    "     $LU = \\begin{pmatrix} 1 & 1 & 1 \\\\ 3 & 1 & -3 \\\\ 1 & -2 & -5 \\end{pmatrix}$\n",
    "     $A = \\begin{pmatrix} 1 & 1 & 1 \\\\ 3 & 1 & -3 \\\\ 1 & -2 & -5 \\end{pmatrix}$\n",
    "</h5>"
   ]
  },
  {
   "cell_type": "code",
   "execution_count": null,
   "id": "995583f3",
   "metadata": {},
   "outputs": [],
   "source": []
  }
 ],
 "metadata": {
  "kernelspec": {
   "display_name": "Python 3 (ipykernel)",
   "language": "python",
   "name": "python3"
  },
  "language_info": {
   "codemirror_mode": {
    "name": "ipython",
    "version": 3
   },
   "file_extension": ".py",
   "mimetype": "text/x-python",
   "name": "python",
   "nbconvert_exporter": "python",
   "pygments_lexer": "ipython3",
   "version": "3.10.4"
  }
 },
 "nbformat": 4,
 "nbformat_minor": 5
}
