{
 "cells": [
  {
   "cell_type": "code",
   "execution_count": 36,
   "id": "d59d3d80",
   "metadata": {},
   "outputs": [],
   "source": [
    "import numpy as np\n",
    "import matplotlib.pyplot as plt\n",
    "import math\n",
    "import matplotlib\n",
    "import sympy as sp\n",
    "from sympy import *\n",
    "\n",
    "init_printing()\n",
    "\n",
    "matplotlib.rcParams['text.usetex']=True"
   ]
  },
  {
   "cell_type": "code",
   "execution_count": 37,
   "id": "0e52021a",
   "metadata": {},
   "outputs": [
    {
     "name": "stdout",
     "output_type": "stream",
     "text": [
      "sqrt(pi)\n"
     ]
    }
   ],
   "source": [
    "x, y = sp.symbols('x y', positive = True)\n",
    "\n",
    "# 문제 1 (2)\n",
    "\n",
    "expr1 = exp(-x**2)\n",
    "s = sp.integrate(expr1,(x,-oo,oo))\n",
    "print(s)"
   ]
  },
  {
   "cell_type": "code",
   "execution_count": 47,
   "id": "8b99e4ed",
   "metadata": {},
   "outputs": [
    {
     "name": "stdout",
     "output_type": "stream",
     "text": [
      "1.7724538509055159\n",
      "1.4202636781830875e-08\n"
     ]
    }
   ],
   "source": [
    "#문제 1 (3)\n",
    "\n",
    "import scipy \n",
    "from scipy import integrate\n",
    "import mpmath\n",
    "\n",
    "def f(x):\n",
    "    return exp(-x**2)\n",
    "\n",
    "val, err = integrate.quad(f,-oo,oo)\n",
    "\n",
    "print(val)\n",
    "print(err)"
   ]
  },
  {
   "cell_type": "code",
   "execution_count": 48,
   "id": "f54b4781",
   "metadata": {},
   "outputs": [
    {
     "name": "stdout",
     "output_type": "stream",
     "text": [
      "1\n"
     ]
    }
   ],
   "source": [
    "#문제 1 (4)\n",
    "\n",
    "a, b = sp.symbols('a b', positive = True)\n",
    "\n",
    "expr2 = (1/(b*sqrt(2*pi)))*exp(-(x-a)**2/(2*b*b))\n",
    "\n",
    "s = sp.integrate(expr2,(x,-oo,oo))\n",
    "\n",
    "print(s)"
   ]
  },
  {
   "cell_type": "code",
   "execution_count": 49,
   "id": "9bd8c823",
   "metadata": {},
   "outputs": [
    {
     "name": "stdout",
     "output_type": "stream",
     "text": [
      "pi/2\n"
     ]
    }
   ],
   "source": [
    "#문제 2 (1)\n",
    "\n",
    "expr3 = sin(x)/x\n",
    "J = sp.integrate(expr3,(x,0,oo))\n",
    "print(J)\n"
   ]
  },
  {
   "cell_type": "code",
   "execution_count": 50,
   "id": "ed93730d",
   "metadata": {
    "scrolled": true
   },
   "outputs": [
    {
     "name": "stdout",
     "output_type": "stream",
     "text": [
      "2.247867963468919\n",
      "3.2903230524472553\n"
     ]
    },
    {
     "name": "stderr",
     "output_type": "stream",
     "text": [
      "C:\\Users\\leeyesol\\AppData\\Local\\Temp/ipykernel_13524/247978127.py:6: IntegrationWarning: The integral is probably divergent, or slowly convergent.\n",
      "  val, err = integrate.quad(f2,0,oo)\n"
     ]
    }
   ],
   "source": [
    "#문제 2 (2)\n",
    "\n",
    "def f2(x):\n",
    "    return sin(x)/x\n",
    "\n",
    "val, err = integrate.quad(f2,0,oo)\n",
    "\n",
    "print(val)\n",
    "print(err)\n"
   ]
  },
  {
   "cell_type": "code",
   "execution_count": 54,
   "id": "5ed3a84d",
   "metadata": {},
   "outputs": [
    {
     "name": "stdout",
     "output_type": "stream",
     "text": [
      "x*log(x) - x\n",
      "x*log(x)**2 - 2*x*log(x) + 2*x\n",
      "x*log(x)**3 - 3*x*log(x)**2 + 6*x*log(x) - 6*x\n",
      "x*log(x)**4 - 4*x*log(x)**3 + 12*x*log(x)**2 - 24*x*log(x) + 24*x\n",
      "x*log(x)**5 - 5*x*log(x)**4 + 20*x*log(x)**3 - 60*x*log(x)**2 + 120*x*log(x) - 120*x\n",
      "x*log(x)**6 - 6*x*log(x)**5 + 30*x*log(x)**4 - 120*x*log(x)**3 + 360*x*log(x)**2 - 720*x*log(x) + 720*x\n",
      "x*log(x)**7 - 7*x*log(x)**6 + 42*x*log(x)**5 - 210*x*log(x)**4 + 840*x*log(x)**3 - 2520*x*log(x)**2 + 5040*x*log(x) - 5040*x\n",
      "x*log(x)**8 - 8*x*log(x)**7 + 56*x*log(x)**6 - 336*x*log(x)**5 + 1680*x*log(x)**4 - 6720*x*log(x)**3 + 20160*x*log(x)**2 - 40320*x*log(x) + 40320*x\n",
      "x*log(x)**9 - 9*x*log(x)**8 + 72*x*log(x)**7 - 504*x*log(x)**6 + 3024*x*log(x)**5 - 15120*x*log(x)**4 + 60480*x*log(x)**3 - 181440*x*log(x)**2 + 362880*x*log(x) - 362880*x\n",
      "x*log(x)**10 - 10*x*log(x)**9 + 90*x*log(x)**8 - 720*x*log(x)**7 + 5040*x*log(x)**6 - 30240*x*log(x)**5 + 151200*x*log(x)**4 - 604800*x*log(x)**3 + 1814400*x*log(x)**2 - 3628800*x*log(x) + 3628800*x\n"
     ]
    }
   ],
   "source": [
    "#문제 3 (2)\n",
    "\n",
    "def f3(n):\n",
    "    expr3 = ln(x)**n\n",
    "    s3 = sp.integrate(expr3,x)\n",
    "    return print(s3)\n",
    "\n",
    "for i in range (1,11):\n",
    "    f3(i)\n"
   ]
  },
  {
   "cell_type": "code",
   "execution_count": 82,
   "id": "cc070d79",
   "metadata": {
    "scrolled": true
   },
   "outputs": [
    {
     "name": "stdout",
     "output_type": "stream",
     "text": [
      "6.0\n"
     ]
    }
   ],
   "source": [
    "#문제 4 (2)\n",
    "\n",
    "def f3(x):\n",
    "    return 1/(abs(x)**(2/3))\n",
    "\n",
    "#val0, err0 = integrate.quad(f3,-1,1) 오류\n",
    "val1, err1 = integrate.quad(f3,-1,0)\n",
    "val2, err2 = integrate.quad(f3,0,1)\n",
    "\n",
    "#print(val0,err0) \n",
    "print(val1+val2)\n",
    "\n"
   ]
  },
  {
   "cell_type": "code",
   "execution_count": null,
   "id": "5c686690",
   "metadata": {},
   "outputs": [],
   "source": []
  },
  {
   "cell_type": "code",
   "execution_count": null,
   "id": "5b19da54",
   "metadata": {},
   "outputs": [],
   "source": []
  },
  {
   "cell_type": "code",
   "execution_count": null,
   "id": "29d95922",
   "metadata": {},
   "outputs": [],
   "source": []
  },
  {
   "cell_type": "code",
   "execution_count": null,
   "id": "0ff15e9e",
   "metadata": {},
   "outputs": [],
   "source": []
  },
  {
   "cell_type": "code",
   "execution_count": null,
   "id": "b350cc96",
   "metadata": {},
   "outputs": [],
   "source": []
  },
  {
   "cell_type": "code",
   "execution_count": null,
   "id": "edf8b944",
   "metadata": {},
   "outputs": [],
   "source": []
  },
  {
   "cell_type": "code",
   "execution_count": null,
   "id": "96fddb82",
   "metadata": {},
   "outputs": [],
   "source": []
  },
  {
   "cell_type": "code",
   "execution_count": null,
   "id": "2e3efd1c",
   "metadata": {},
   "outputs": [],
   "source": []
  },
  {
   "cell_type": "code",
   "execution_count": null,
   "id": "7ccd7bd7",
   "metadata": {},
   "outputs": [],
   "source": []
  },
  {
   "cell_type": "code",
   "execution_count": null,
   "id": "cc9f9918",
   "metadata": {},
   "outputs": [],
   "source": []
  },
  {
   "cell_type": "code",
   "execution_count": null,
   "id": "10017769",
   "metadata": {},
   "outputs": [],
   "source": []
  }
 ],
 "metadata": {
  "kernelspec": {
   "display_name": "Python 3 (ipykernel)",
   "language": "python",
   "name": "python3"
  },
  "language_info": {
   "codemirror_mode": {
    "name": "ipython",
    "version": 3
   },
   "file_extension": ".py",
   "mimetype": "text/x-python",
   "name": "python",
   "nbconvert_exporter": "python",
   "pygments_lexer": "ipython3",
   "version": "3.9.7"
  }
 },
 "nbformat": 4,
 "nbformat_minor": 5
}
