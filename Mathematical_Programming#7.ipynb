{
 "cells": [
  {
   "cell_type": "code",
   "execution_count": 1,
   "id": "4d73c4cf",
   "metadata": {},
   "outputs": [],
   "source": [
    "import sympy as sp\n",
    "import numpy as np\n",
    "import math\n",
    "\n",
    "v = [1,3,5]\n",
    "w = [2,-1,3]"
   ]
  },
  {
   "cell_type": "code",
   "execution_count": 2,
   "id": "c912de35",
   "metadata": {},
   "outputs": [],
   "source": [
    "def make_dot(a,b):\n",
    "    alen = len(a)\n",
    "    blen = len(b)\n",
    "    if alen != blen : return print('error')\n",
    "    sum = 0\n",
    "    for i in range(0,alen):\n",
    "        sum += a[i]*b[i]\n",
    "    return sum"
   ]
  },
  {
   "cell_type": "code",
   "execution_count": 3,
   "id": "d875acdd",
   "metadata": {},
   "outputs": [],
   "source": [
    "def make_cross(a,b):\n",
    "    alen = len(a)\n",
    "    blen = len(b)\n",
    "    if alen == 2 and blen == 2 : \n",
    "        a.append(0)\n",
    "        b.append(0)\n",
    "        output = [a[1]*b[2]-a[2]*b[1],a[2]*b[0]-a[0]*b[2],a[0]*b[1]-a[1]*b[0]]\n",
    "        return output\n",
    "    \n",
    "    elif alen == 2 and blen == 3:\n",
    "        a.append(0)\n",
    "        output = [a[1]*b[2]-a[2]*b[1],a[2]*b[0]-a[0]*b[2],a[0]*b[1]-a[1]*b[0]]\n",
    "        return output\n",
    "    \n",
    "    elif alen == 3 and blen == 2:\n",
    "        b.append(0)\n",
    "        output = [a[1]*b[2]-a[2]*b[1],a[2]*b[0]-a[0]*b[2],a[0]*b[1]-a[1]*b[0]]\n",
    "        return output\n",
    "    \n",
    "    elif alen == 3 and blen == 3:\n",
    "        output = [a[1]*b[2]-a[2]*b[1],a[2]*b[0]-a[0]*b[2],a[0]*b[1]-a[1]*b[0]]\n",
    "        return output\n",
    "    \n",
    "    else : return print(\"ValueError: incompatible dimensions for cross product (dimension must be 2 or 3) \")"
   ]
  },
  {
   "cell_type": "code",
   "execution_count": 24,
   "id": "fe4acac5",
   "metadata": {},
   "outputs": [
    {
     "name": "stdout",
     "output_type": "stream",
     "text": [
      "make dot :  14\n",
      "numpy dot :  14\n",
      "make cross :  [14, 7, -7]\n",
      "numpy cross :  [14, 7, -7]\n",
      "v × w : [14, 7, -7] \n",
      "w × v : [-14, -7, 7] \n",
      "순서가 바뀌면 부호가 바뀐다.\n",
      "v·(v × w) : 0\n",
      "w·(v × w) : 0\n",
      "외적은 두 벡터의 수직 벡터를 반환하고, 수직벡터의 내적의 값은 0이다.\n",
      "스칼라 삼중곱의 값이 0이면 세 벡터는 모두 같은 평면상의 벡터다.\n"
     ]
    }
   ],
   "source": [
    "# 1-1 v · w \n",
    "print('make dot : ', make_dot(v,w))\n",
    "print('numpy dot : ', np.dot(v,w))\n",
    "\n",
    "\n",
    "# 1-2 v × w\n",
    "print('make cross : ', make_cross(v,w))\n",
    "print('numpy cross : ', make_cross(v,w))\n",
    "\n",
    "\n",
    "# 1-3 w × v\n",
    "print('v × w :',make_cross(v,w),'\\nw × v :', make_cross(w,v), \"\\n순서가 바뀌면 부호가 바뀐다.\")\n",
    "\n",
    "\n",
    "# 1-4 v·(v × w)\n",
    "print(\"v·(v × w) :\", make_dot( make_cross(v,w),v ) )\n",
    "# 1-4 w·(v × w)\n",
    "print(\"w·(v × w) :\", make_dot( make_cross(v,w),v ) )\n",
    "\n",
    "print(\"외적은 두 벡터의 수직 벡터를 반환하고, 수직벡터의 내적의 값은 0이다.\")\n",
    "print(\"스칼라 삼중곱의 값이 0이면 세 벡터는 모두 같은 평면상의 벡터다.\")"
   ]
  },
  {
   "cell_type": "code",
   "execution_count": 15,
   "id": "95e4be78",
   "metadata": {},
   "outputs": [
    {
     "name": "stdout",
     "output_type": "stream",
     "text": [
      "[12, -3, 3]\n",
      "18\n"
     ]
    }
   ],
   "source": [
    "# 2번 (numpy 없이)\n",
    "O = [0,0,0]\n",
    "P = [1,2,4]\n",
    "Q = [0,-1,5]\n",
    "R = [3,5,-1]\n",
    "\n",
    "#PQ, PR 등의 길이 함수\n",
    "def lenth(A,B):\n",
    "    AB = [0,0,0]\n",
    "    for i in range(0,len(A)):\n",
    "        AB[i] = B[i] - A[i]\n",
    "    return AB\n",
    "\n",
    "#2-1\n",
    "prl = make_cross(lenth(P,Q),lenth(P,R))\n",
    "print(prl)\n",
    "\n",
    "#2-2\n",
    "prp = make_dot( lenth(O,R),make_cross( lenth(O,P),lenth(O,Q) ) )\n",
    "print(prp)"
   ]
  },
  {
   "cell_type": "code",
   "execution_count": 19,
   "id": "e0ba0972",
   "metadata": {},
   "outputs": [
    {
     "name": "stdout",
     "output_type": "stream",
     "text": [
      "[12 -3  3]\n",
      "18\n"
     ]
    }
   ],
   "source": [
    "# 2번 (numpy 사용)\n",
    "\n",
    "O = np.array([0,0,0])\n",
    "P = np.array([1,2,4])\n",
    "Q = np.array([0,-1,5])\n",
    "R = np.array([3,5,-1])\n",
    "\n",
    "#2-1\n",
    "PQ = Q-P\n",
    "PR = R-P\n",
    "\n",
    "print(np.cross(PQ,PR))\n",
    "\n",
    "#2-2\n",
    "\n",
    "print( np.dot( P,np.cross(Q,R) ) )\n"
   ]
  },
  {
   "cell_type": "code",
   "execution_count": null,
   "id": "f817636f",
   "metadata": {},
   "outputs": [],
   "source": []
  },
  {
   "cell_type": "code",
   "execution_count": null,
   "id": "9839648c",
   "metadata": {},
   "outputs": [],
   "source": []
  },
  {
   "cell_type": "code",
   "execution_count": null,
   "id": "2468768f",
   "metadata": {},
   "outputs": [],
   "source": []
  },
  {
   "cell_type": "code",
   "execution_count": null,
   "id": "dd359fcb",
   "metadata": {},
   "outputs": [],
   "source": []
  }
 ],
 "metadata": {
  "kernelspec": {
   "display_name": "Python 3 (ipykernel)",
   "language": "python",
   "name": "python3"
  },
  "language_info": {
   "codemirror_mode": {
    "name": "ipython",
    "version": 3
   },
   "file_extension": ".py",
   "mimetype": "text/x-python",
   "name": "python",
   "nbconvert_exporter": "python",
   "pygments_lexer": "ipython3",
   "version": "3.10.3"
  }
 },
 "nbformat": 4,
 "nbformat_minor": 5
}
