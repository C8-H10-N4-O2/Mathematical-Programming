{
 "cells": [
  {
   "cell_type": "markdown",
   "id": "60c105a8",
   "metadata": {},
   "source": [
    "$과제 8$"
   ]
  },
  {
   "cell_type": "code",
   "execution_count": 34,
   "id": "f860cf6f",
   "metadata": {},
   "outputs": [],
   "source": [
    "import numpy as np\n",
    "\n",
    "A = [ [2,3,4],[5,6,6] ]\n",
    "B = [ [0,1,3],[-1,3,-2] ]\n",
    "\n",
    "V = np.array([ [2,3,4],[5,6,6] ])\n",
    "W = np.array([ [0,1,3],[-1,3,-2] ])"
   ]
  },
  {
   "cell_type": "code",
   "execution_count": 35,
   "id": "d070d3a2",
   "metadata": {},
   "outputs": [],
   "source": [
    "# 1번\n",
    "\n",
    "def element_product(A,B):\n",
    "    \n",
    "    A_row = len(A)\n",
    "    A_column = len(A[0])\n",
    "    \n",
    "    B_row = len(B)\n",
    "    B_column = len(B[0])\n",
    "    \n",
    "    output = []\n",
    "    num = 0\n",
    "    \n",
    "    if A_row != B_row or A_column != B_column:\n",
    "        print(\"error\")\n",
    "    \n",
    "    for i in range(0,A_row):\n",
    "        row = []\n",
    "        for j in range(0, A_column):\n",
    "            num = A[i][j] * B[i][j]\n",
    "            row.append(num)\n",
    "        output.append(row)\n",
    "    \n",
    "    return output"
   ]
  },
  {
   "cell_type": "code",
   "execution_count": 39,
   "id": "8a28b402",
   "metadata": {},
   "outputs": [
    {
     "name": "stdout",
     "output_type": "stream",
     "text": [
      "make_function: \n",
      " [[0, 3, 12], [-5, 18, -12]]\n",
      "numpy_function: \n",
      " [[  0   3  12]\n",
      " [ -5  18 -12]]\n"
     ]
    }
   ],
   "source": [
    "print( 'make_function: \\n', element_product(A,B))\n",
    "print( 'numpy_function: \\n', np.multiply(V,W))"
   ]
  },
  {
   "cell_type": "code",
   "execution_count": 15,
   "id": "ccb025de",
   "metadata": {},
   "outputs": [],
   "source": [
    "# 2번\n",
    "\n",
    "def matrix_trace(A):\n",
    "    \n",
    "    output = 0\n",
    "    \n",
    "    A_row = len(A)\n",
    "    A_column = len(A[0])\n",
    "    \n",
    "    if A_row != A_column : print(\"ERROR\")\n",
    "    \n",
    "    for i in range(0, A_row):\n",
    "        output += A[i][i]\n",
    "        \n",
    "    return output"
   ]
  },
  {
   "cell_type": "code",
   "execution_count": 41,
   "id": "e8d4b985",
   "metadata": {},
   "outputs": [
    {
     "name": "stdout",
     "output_type": "stream",
     "text": [
      "make_function: \n",
      " 18\n",
      "numpy_function: \n",
      " 18\n"
     ]
    }
   ],
   "source": [
    "X = [ [1,5,0],[2,7,-1],[1,5,10] ]\n",
    "Y = np.array([ [1,5,0],[2,7,-1],[1,5,10] ])\n",
    "\n",
    "print( 'make_function: \\n', matrix_trace(X))\n",
    "print( 'numpy_function: \\n', np.trace(Y))"
   ]
  },
  {
   "cell_type": "code",
   "execution_count": 16,
   "id": "4c8cd673",
   "metadata": {},
   "outputs": [],
   "source": [
    "# 3번\n",
    "def fibo(a):\n",
    "    if (a == 0) : return 0\n",
    "    elif (a == 1 or a == 2): return 1\n",
    "    sum = fibo(a-2) + fibo(a-1)\n",
    "    \n",
    "    return sum"
   ]
  },
  {
   "cell_type": "code",
   "execution_count": 14,
   "id": "ef10b529",
   "metadata": {},
   "outputs": [
    {
     "data": {
      "text/plain": [
       "55"
      ]
     },
     "execution_count": 14,
     "metadata": {},
     "output_type": "execute_result"
    }
   ],
   "source": [
    "fibo(10)"
   ]
  },
  {
   "cell_type": "code",
   "execution_count": null,
   "id": "8aee806c",
   "metadata": {},
   "outputs": [],
   "source": []
  }
 ],
 "metadata": {
  "kernelspec": {
   "display_name": "Python 3 (ipykernel)",
   "language": "python",
   "name": "python3"
  },
  "language_info": {
   "codemirror_mode": {
    "name": "ipython",
    "version": 3
   },
   "file_extension": ".py",
   "mimetype": "text/x-python",
   "name": "python",
   "nbconvert_exporter": "python",
   "pygments_lexer": "ipython3",
   "version": "3.10.4"
  }
 },
 "nbformat": 4,
 "nbformat_minor": 5
}
