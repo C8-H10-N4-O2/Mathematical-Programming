{
 "cells": [
  {
   "cell_type": "code",
   "execution_count": 1,
   "id": "4d663bff",
   "metadata": {},
   "outputs": [],
   "source": [
    "import numpy as np\n",
    "import sympy as sp\n",
    "import math\n",
    "from scipy.linalg import lu"
   ]
  },
  {
   "cell_type": "code",
   "execution_count": 2,
   "id": "69e511d0",
   "metadata": {},
   "outputs": [
    {
     "name": "stdout",
     "output_type": "stream",
     "text": [
      "1 [array([[0.4472136 ],\n",
      "       [0.89442719]]), array([[2.6]])]\n",
      "2 [array([[0.78086881],\n",
      "       [0.62469505]]), array([[2.95121951]])]\n",
      "3 [array([[0.6804511 ],\n",
      "       [0.73279349]]), array([[2.99452055]])]\n",
      "4 [array([[0.71578195],\n",
      "       [0.69832385]]), array([[2.99939043]])]\n",
      "5 [array([[0.70419091],\n",
      "       [0.71001067]]), array([[2.99993226]])]\n",
      "6 [array([[0.70807608],\n",
      "       [0.70613615]]), array([[2.99999247]])]\n",
      "7 [array([[0.70678338],\n",
      "       [0.70743003]]), array([[2.99999916]])]\n",
      "8 [array([[0.70721455],\n",
      "       [0.706999  ]]), array([[2.99999991]])]\n",
      "9 [array([[0.70707086],\n",
      "       [0.70714271]]), array([[2.99999999]])]\n",
      "10 [array([[0.70711876],\n",
      "       [0.70709481]]), array([[3.]])]\n",
      "11 [array([[0.70710279],\n",
      "       [0.70711077]]), array([[3.]])]\n",
      "12 [array([[0.70710811],\n",
      "       [0.70710545]]), array([[3.]])]\n",
      "13 [array([[0.70710634],\n",
      "       [0.70710722]]), array([[3.]])]\n",
      "14 [array([[0.70710693],\n",
      "       [0.70710663]]), array([[3.]])]\n",
      "15 [array([[0.70710673],\n",
      "       [0.70710683]]), array([[3.]])]\n",
      "16 [array([[0.7071068 ],\n",
      "       [0.70710676]]), array([[3.]])]\n",
      "17 [array([[0.70710678],\n",
      "       [0.70710679]]), array([[3.]])]\n",
      "18 [array([[0.70710678],\n",
      "       [0.70710678]]), array([[3.]])]\n",
      "19 [array([[0.70710678],\n",
      "       [0.70710678]]), array([[3.]])]\n"
     ]
    }
   ],
   "source": [
    "#1 \n",
    "\n",
    "A = np.array([ [1,2],[2,1] ])\n",
    "x = np.array([ [1],[0] ])\n",
    "\n",
    "def f(A, x, num):\n",
    "    \n",
    "    vector = x\n",
    "    \n",
    "    for _ in range(num):\n",
    "        \n",
    "        Ax = np.dot(A, vector)\n",
    "        \n",
    "        vector =  Ax / np.linalg.norm(Ax)\n",
    "        \n",
    "        value = np.dot(np.transpose(vector), np.dot(A, vector))\n",
    "\n",
    "    return [vector, value]\n",
    "\n",
    "for i in range(1,20):\n",
    "    print(i, f(A, x, i))\n"
   ]
  },
  {
   "cell_type": "code",
   "execution_count": 3,
   "id": "ce9fe98b",
   "metadata": {},
   "outputs": [
    {
     "name": "stdout",
     "output_type": "stream",
     "text": [
      "----------L----------\n",
      " [[ 1.          0.          0.        ]\n",
      " [ 0.33333333  1.          0.        ]\n",
      " [ 0.33333333 -0.28571429  1.        ]]\n",
      "----------U----------\n",
      " [[ 3.          1.         -3.        ]\n",
      " [ 0.         -2.33333333 -4.        ]\n",
      " [ 0.          0.          0.85714286]]\n",
      "-----LU-----\n",
      " [[ 1.  1.  1.]\n",
      " [ 3.  1. -3.]\n",
      " [ 1. -2. -5.]]\n",
      "-----A-----\n",
      " [[ 1  1  1]\n",
      " [ 3  1 -3]\n",
      " [ 1 -2 -5]]\n"
     ]
    }
   ],
   "source": [
    "#2\n",
    "A = np.array([ [1,1,1],[3,1,-3],[1,-2,-5] ])\n",
    "P, L, U = lu(A)\n",
    "\n",
    "# L, U 확인\n",
    "print(\"----------L----------\\n\",L) #상삼각행렬\n",
    "print(\"----------U----------\\n\",U) #하삼각행렬\n",
    "\n",
    "#같은지 확인\n",
    "print(\"-----LU-----\\n\",np.matmul(np.matmul(P,L),U))\n",
    "print(\"-----A-----\\n\",A)\n"
   ]
  },
  {
   "cell_type": "code",
   "execution_count": 4,
   "id": "e4c4e186",
   "metadata": {},
   "outputs": [
    {
     "name": "stdout",
     "output_type": "stream",
     "text": [
      "[1. 0. 1.]\n",
      "{x: 1, y: 0, z: 1}\n"
     ]
    }
   ],
   "source": [
    "#3-(1)\n",
    "expr1 = np.array([ [3,1,2],[2,6,-1],[4,0,-1] ])\n",
    "expr2 = np.array([5,1,3])\n",
    "\n",
    "print(np.linalg.solve(expr1,expr2))\n",
    "\n",
    "#3-(2)\n",
    "\n",
    "x,y,z = sp.symbols(\"x,y,z\")\n",
    "\n",
    "result = sp.solve([sp.Eq(3*x+y+2*z,5), sp.Eq(2*x+6*y-z,1), sp.Eq(4*x-z,3)], x,y,z)\n",
    "\n",
    "print(result)\n"
   ]
  },
  {
   "cell_type": "code",
   "execution_count": null,
   "id": "ec777a77",
   "metadata": {},
   "outputs": [],
   "source": []
  }
 ],
 "metadata": {
  "kernelspec": {
   "display_name": "Python 3 (ipykernel)",
   "language": "python",
   "name": "python3"
  },
  "language_info": {
   "codemirror_mode": {
    "name": "ipython",
    "version": 3
   },
   "file_extension": ".py",
   "mimetype": "text/x-python",
   "name": "python",
   "nbconvert_exporter": "python",
   "pygments_lexer": "ipython3",
   "version": "3.10.4"
  }
 },
 "nbformat": 4,
 "nbformat_minor": 5
}
